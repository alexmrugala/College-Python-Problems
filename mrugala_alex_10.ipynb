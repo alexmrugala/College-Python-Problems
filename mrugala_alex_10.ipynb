{
 "cells": [
  {
   "cell_type": "code",
   "execution_count": 6,
   "metadata": {},
   "outputs": [],
   "source": [
    "%matplotlib inline\n",
    "import numpy as np\n",
    "import matplotlib.pyplot as plt\n",
    "from numpy.random import choice, randint\n"
   ]
  },
  {
   "cell_type": "code",
   "execution_count": 9,
   "metadata": {},
   "outputs": [
    {
     "data": {
      "image/png": "[encoded data removed]",
      "text/plain": [
       "<Figure size 432x288 with 1 Axes>"
      ]
     },
     "metadata": {
      "needs_background": "light"
     },
     "output_type": "display_data"
    }
   ],
   "source": [
    "#problem 1\n",
    "#simulate a point that can make random movements, but the point cannot cross its original path (self avoiding random walk)\n",
    "#in the event that the particle traps itself inside its own path and cannot move without crossing an already made path, then the loop will need to be terminated\n",
    "\n",
    "#define plotting function that takes list\n",
    "def plotter(x):\n",
    "    xs,ys = np.array(x).T\n",
    "    #plot the points\n",
    "    plt.plot(xs,ys,'-o', color = 'r')\n",
    "    #make first point blue\n",
    "    plt.plot(xs[0], ys[0], 'o', color = 'b')\n",
    "    #make last point green\n",
    "    plt.plot(xs[-1], ys[-1], 'o', color = 'g')\n",
    "    plt.show()\n",
    "    \n",
    "    \n",
    "#define function that will move the particle, and add it to an array \n",
    "def snake(N):\n",
    "    from numpy.random import choice\n",
    "    import numpy as np\n",
    "    steps = N\n",
    "    start = (0,0)\n",
    "    x,y = start\n",
    "    #make empty array to store the coordinates for each step \n",
    "    snakemap = [start]\n",
    "    while steps > 0:\n",
    "        #check if the coordinate is trapped. if it is, return the function.\n",
    "        #set counter to keep track of possible moves. If the move is free, label that position as \"free\"\n",
    "        counter = np.zeros(4, dtype = 'int')\n",
    "        for coord in snakemap:\n",
    "            #check right\n",
    "            if (x+1,y) == coord:\n",
    "                counter[0] = 1\n",
    "                \n",
    "            #check left    \n",
    "            elif (x-1,y) == coord:\n",
    "                counter[1] = 1\n",
    "                \n",
    "            #check up    \n",
    "            elif (x,y+1) == coord:\n",
    "                counter[2] = 1\n",
    "                \n",
    "            #check down    \n",
    "            elif (x,y-1) == coord:\n",
    "                counter[3] = 1\n",
    "        #if all moves are taken, len of counter will be 4. return function so that the program stops\n",
    "        if counter[0] == 1 and counter[1] == 1 and counter[2] == 1 and counter[3] == 1:\n",
    "            print(\"No moves available.\")\n",
    "            return plotter(snakemap)\n",
    "        \n",
    "        else:\n",
    "            #use while loop to force a move in the event that a move is selected that can't actually occur\n",
    "            w = 1\n",
    "            while w == 1:\n",
    "                \n",
    "            #if move still available, go with next step\n",
    "                move = choice(('up','down','left','right'))\n",
    "            #the possible moves were tracked with 'counter' earlier. if the counter has a move in it's list\n",
    "            #then the snake cannot move in that direction\n",
    "            \n",
    "            #'right' will always be first in the coord list\n",
    "                if move == 'right' and counter[0] != 1:\n",
    "                    x += 1\n",
    "                    break\n",
    "                    \n",
    "            #'left' second in the coord list\n",
    "                elif move == 'left' and counter[1] != 1:\n",
    "                    x -= 1\n",
    "                    break\n",
    "        \n",
    "            #'up' third in the coord list\n",
    "                elif move == 'up' and counter[2] != 1:\n",
    "                    y += 1 \n",
    "                    break\n",
    "                    \n",
    "            #\"down\" will always be last in the list\n",
    "                elif move == 'down' and counter[3] != 1:\n",
    "                    y -= 1\n",
    "                    break\n",
    "                else:\n",
    "                    continue\n",
    "        #add the new coordinate to the list\n",
    "        snakemap.append((x,y))\n",
    "        steps -= 1\n",
    "    return plotter(snakemap)\n",
    "\n",
    "snake(50)\n"
   ]
  },
  {
   "cell_type": "code",
   "execution_count": 15,
   "metadata": {},
   "outputs": [
    {
     "name": "stdout",
     "output_type": "stream",
     "text": [
      "Probability of winning if the contestant picks a new door is 0.67\n",
      "Probability of winning if the contestant stays with the original door 0.33\n"
     ]
    }
   ],
   "source": [
    "#Problem 2\n",
    "#create a program that simulates the monty hall problem, and calculates the probability of winning the game if you switch your initial guess each time (should get 2/3 probabilty of win by switching)\n",
    "\n",
    "def montyhall(N):\n",
    "    from numpy.random import choice\n",
    "    \n",
    "    #two scenarios: can either pick an empty door on initial guess, or pick door with car\n",
    "    \n",
    "    trials = N\n",
    "    switch = 0\n",
    "    noswitch = 0\n",
    "    #run N number of trials\n",
    "    while trials > 0:\n",
    "        doors = [0,0,0]\n",
    "        #select which door will have the car \n",
    "        car = choice(3)\n",
    "        doors[car] = 1\n",
    "        #select contestant's pick for the door\n",
    "        door_pick = choice(3)\n",
    "        doors[door_pick] = 2\n",
    " \n",
    "        #count number of empty doors in sequence\n",
    "        zeros = 0\n",
    "        for i in doors:\n",
    "            if i == 0:\n",
    "                zeros += 1\n",
    "                \n",
    "        #can only be 1 or 2 empty doors depending on what the user picked\n",
    "        \n",
    "        #if one zero remains, the contestant picked the other empty door. \n",
    "        #host must reveal the unpicked empty door\n",
    "        if zeros == 1:\n",
    "            #assuming that the contestant switches, this would lead to a win because the guest\n",
    "            #initially picked an empty door, and now switched to the winning door \n",
    "            #since the host removed the only remaining empty door\n",
    "            switch += 1\n",
    "            \n",
    "            \n",
    "        #if two zeros remain, host has choice of which door to reveal \n",
    "        #assuming that the contestant switches each time, switching when there are two empty doors\n",
    "        #(i.e. picked the correct door on the first try) will lead to a loss. staying on the same door will\n",
    "        #lead to a win\n",
    "        elif zeros == 2:\n",
    "            noswitch += 1\n",
    "        \n",
    "        \n",
    "        trials -= 1\n",
    "    \n",
    "    print('Probability of winning if the contestant picks a new door is %.2g' %(switch/N))\n",
    "    print('Probability of winning if the contestant stays with the original door %.2g' %(noswitch/N))\n",
    "    \n",
    "montyhall(10000)"
   ]
  },
  {
   "cell_type": "code",
   "execution_count": null,
   "metadata": {},
   "outputs": [],
   "source": []
  },
  {
   "cell_type": "code",
   "execution_count": null,
   "metadata": {},
   "outputs": [],
   "source": []
  },
  {
   "cell_type": "code",
   "execution_count": null,
   "metadata": {},
   "outputs": [],
   "source": []
  }
 ],
 "metadata": {
  "kernelspec": {
   "display_name": "Python 3",
   "language": "python",
   "name": "python3"
  },
  "language_info": {
   "codemirror_mode": {
    "name": "ipython",
    "version": 3
   },
   "file_extension": ".py",
   "mimetype": "text/x-python",
   "name": "python",
   "nbconvert_exporter": "python",
   "pygments_lexer": "ipython3",
   "version": "3.7.3"
  }
 },
 "nbformat": 4,
 "nbformat_minor": 2
}
