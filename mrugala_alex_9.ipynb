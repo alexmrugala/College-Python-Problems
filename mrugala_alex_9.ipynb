{
 "cells": [
  {
   "cell_type": "code",
   "execution_count": 228,
   "metadata": {},
   "outputs": [],
   "source": [
    "%matplotlib inline\n",
    "import numpy as np\n",
    "import matplotlib.pyplot as plt\n",
    "from numpy.random import choice, randint"
   ]
  },
  {
   "cell_type": "code",
   "execution_count": 262,
   "metadata": {},
   "outputs": [
    {
     "data": {
      "image/png": "[encoded data removed]",
      "text/plain": [
       "<Figure size 432x288 with 1 Axes>"
      ]
     },
     "metadata": {
      "needs_background": "light"
     },
     "output_type": "display_data"
    }
   ],
   "source": [
    "#problem 1\n",
    "#Write a program to simulate diffusion-limited aggregation via a monte carlo simulation. The basic idea is to start with a seed in the middle of a lattice structure. \n",
    "#A new particle will be introduced, and move randomly up, down, left, or right until it touches another particle. Then, a new particle will be added and start the process over again\n",
    "#This will be done until all particles are gone\n",
    "\n",
    "N = 101\n",
    "M = 101\n",
    "particlearray = np.zeros((N,M),dtype = int)\n",
    "seed = (int(N/2),int(N/2))\n",
    "particlearray[seed] = 1\n",
    "particles = 1000\n",
    "\n",
    "#define function that will move the particle, and add it to an array \n",
    "def whileloop():\n",
    "    x = randint(N)\n",
    "    y = randint(N)\n",
    "    w = 1\n",
    "    while w == 1:\n",
    "        #check if the particle is out of bounds, if it is then restart with new random number\n",
    "        if x >= N  or x < 0:\n",
    "            x = randint(N)\n",
    "            y = randint(N)\n",
    "        if y >= N or y < 0:\n",
    "            x = randint(N)\n",
    "            y = randint(N)\n",
    "        \n",
    "        #check if the coordinate is already taken\n",
    "        if particlearray[x,y] == 1:\n",
    "            x = randint(N)\n",
    "            y = randint(N)\n",
    "            \n",
    "            \n",
    "        #check if adjacent coordinate has a particle\n",
    "        #use try just in case there is an index error, if there is an index error the try will pass and then move the particle again. \n",
    "        try: \n",
    "            #if particle is one space above other particle, append to matrix as a crystal\n",
    "                #return the function to start the new particle\n",
    "            if particlearray[x,y+1] == 1:\n",
    "                particlearray[x,y] = 1\n",
    "                return\n",
    "                \n",
    "                #if particle is one space above other particle, append to matrix as a crystal\n",
    "                #return the function to start the new particle\n",
    "            elif particlearray[x,y-1] == 1:\n",
    "                particlearray[x,y] = 1\n",
    "                return\n",
    "                \n",
    "                #if particle is one space to the left of other particle, append to matrix as a crystal \n",
    "                #return the function to start the new particle\n",
    "            elif particlearray[x + 1,y] == 1:\n",
    "                particlearray[x,y] = 1\n",
    "                return\n",
    "                \n",
    "                #if particle is one space to the right of other particle, append to matrix as a crystal\n",
    "                #return the function to start the new particle\n",
    "            elif particlearray[x - 1,y] == 1:\n",
    "                particlearray[x,y] = 1\n",
    "                return\n",
    "        except:\n",
    "            pass\n",
    "\n",
    "        #if particle isn't close to another particle, then move the particle\n",
    "        move = choice(('up','down','left','right'))\n",
    "        if move == 'up':\n",
    "            x += 1\n",
    "        elif move == 'down':\n",
    "            x -= 1\n",
    "        elif move == 'left':\n",
    "            y -= 1 \n",
    "        elif move == 'right':\n",
    "            y += 1\n",
    "        w = 1\n",
    "\n",
    "#run the programs for a certain number of particles\n",
    "for particle in range(particles):\n",
    "    whileloop()\n",
    "    \n",
    "plt.imshow(particlearray)\n",
    "plt.show()"
   ]
  },
  {
   "cell_type": "code",
   "execution_count": 338,
   "metadata": {},
   "outputs": [
    {
     "data": {
      "image/png": "[encoded data removed]",
      "text/plain": [
       "<Figure size 432x288 with 1 Axes>"
      ]
     },
     "metadata": {
      "needs_background": "light"
     },
     "output_type": "display_data"
    }
   ],
   "source": [
    "#problem 2\n",
    "#same premise as the problem before, but now the entire bottom of the lattice will have seeds instead of only one seed in the middle\n",
    "N = 100\n",
    "M = 300\n",
    "particlearray = np.zeros((N,M),dtype = int)\n",
    "particlearray[-1,:] = 1\n",
    "particles = 3000\n",
    "\n",
    "#define function that will move the particle, and add it to an array \n",
    "def whileloop():\n",
    "    #start at the top of the matrix at row 0 and random column\n",
    "    x = 0\n",
    "    y = randint(M)\n",
    "    w = 1\n",
    "    while w == 1:\n",
    "        \n",
    "    \n",
    "        #check if the particle is out of bounds, if it is then restart with new random number\n",
    "        #N-1 and M-1 because index is from 0 to 299\n",
    "        if x >= N-1  or x < 0:\n",
    "            x = 0\n",
    "            y = randint(M)\n",
    "        elif y >= M-1 or y < 0:\n",
    "            x = 0\n",
    "            y = randint(M)\n",
    "        \n",
    "        #check if the coordinate is already taken\n",
    "        elif particlearray[x,y] == 1:\n",
    "            x = 0\n",
    "            y = randint(M)\n",
    "        \n",
    "            \n",
    "        #check if adjacent coordinate has a particle\n",
    "        #if particle is one space above other particle, append to matrix as a crystal\n",
    "        #return the function to start the new particle\n",
    "        #use try block in the event that there is an index error\n",
    "        try:\n",
    "            if particlearray[x,y+1] == 1:\n",
    "                particlearray[x,y] = 1\n",
    "                return \n",
    "                #if particle is one space above other particle, append to matrix as a crystal\n",
    "                #return the function to start the new particle\n",
    "                #if particle is one space to the left of other particle, append to matrix as a crystal \n",
    "                #return the function to start the new particle\n",
    "            elif particlearray[x + 1,y] == 1:\n",
    "                particlearray[x,y] = 1\n",
    "                return\n",
    "        \n",
    "            elif particlearray[x,y-1] == 1:\n",
    "                particlearray[x,y] = 1\n",
    "                return      \n",
    "                #if particle is one space to the left of other particle, append to matrix as a crystal \n",
    "                #return the function to start the new particle\n",
    "            elif particlearray[x + 1,y] == 1:\n",
    "                particlearray[x,y] = 1\n",
    "                return\n",
    "                \n",
    "                #if particle is one space to the right of other particle, append to matrix as a crystal\n",
    "                #return the function to start the new particle\n",
    "            \n",
    "        except:\n",
    "            pass\n",
    "        \n",
    "        #if particle isn't close to another particle, then move the particle\n",
    "        move = choice(('up','down','left','right'))\n",
    "        if move == 'up':\n",
    "            y += 1\n",
    "        elif move == 'down':\n",
    "            y -= 1\n",
    "        elif move == 'left':\n",
    "            x -= 1 \n",
    "        elif move == 'right':\n",
    "            x += 1\n",
    "        w = 1\n",
    "#run the programs for a certain number of particles\n",
    "for particle in range(particles):\n",
    "    whileloop()\n",
    "\n",
    "plt.imshow(particlearray)\n",
    "plt.show()"
   ]
  },
  {
   "cell_type": "code",
   "execution_count": null,
   "metadata": {},
   "outputs": [],
   "source": []
  },
  {
   "cell_type": "code",
   "execution_count": null,
   "metadata": {},
   "outputs": [],
   "source": []
  },
  {
   "cell_type": "code",
   "execution_count": null,
   "metadata": {},
   "outputs": [],
   "source": []
  },
  {
   "cell_type": "code",
   "execution_count": null,
   "metadata": {},
   "outputs": [],
   "source": []
  }
 ],
 "metadata": {
  "kernelspec": {
   "display_name": "Python 3",
   "language": "python",
   "name": "python3"
  },
  "language_info": {
   "codemirror_mode": {
    "name": "ipython",
    "version": 3
   },
   "file_extension": ".py",
   "mimetype": "text/x-python",
   "name": "python",
   "nbconvert_exporter": "python",
   "pygments_lexer": "ipython3",
   "version": "3.7.3"
  }
 },
 "nbformat": 4,
 "nbformat_minor": 2
}
